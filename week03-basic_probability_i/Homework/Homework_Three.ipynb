{
 "cells": [
  {
   "cell_type": "markdown",
   "metadata": {},
   "source": [
    "# Submitted by: AHSAN FAYYAZ"
   ]
  },
  {
   "cell_type": "markdown",
   "metadata": {},
   "source": [
    "#### 1. From our Intro to Probability and Statistics textbook, answer questions 1-6 and 19 and 22 from Chapter 3, starting on Page 80. Insert the questions with their respective answers and any necessary code below."
   ]
  },
  {
   "cell_type": "code",
   "execution_count": 2,
   "metadata": {},
   "outputs": [],
   "source": [
    "import random\n",
    "import numpy as np\n",
    "from scipy.special import comb, perm\n",
    "import itertools"
   ]
  },
  {
   "cell_type": "markdown",
   "metadata": {},
   "source": [
    "### 1. A box contains three marbles — one red, one green, and one blue. Consider an experiment that consists of taking one marble from the box, then replacing it in the box and drawing a second marble from the box. Describe the sample space. Repeat for the case in which the second marble is drawn without first replacing the first marble."
   ]
  },
  {
   "cell_type": "markdown",
   "metadata": {},
   "source": [
    "Sample space: "
   ]
  },
  {
   "cell_type": "code",
   "execution_count": 161,
   "metadata": {},
   "outputs": [
    {
     "data": {
      "text/plain": [
       "[('R', 'R'),\n",
       " ('R', 'B'),\n",
       " ('R', 'G'),\n",
       " ('B', 'R'),\n",
       " ('B', 'B'),\n",
       " ('B', 'G'),\n",
       " ('G', 'R'),\n",
       " ('G', 'B'),\n",
       " ('G', 'G')]"
      ]
     },
     "execution_count": 161,
     "metadata": {},
     "output_type": "execute_result"
    }
   ],
   "source": [
    "all_possibilities = ['R', 'B', 'G']\n",
    "list(itertools.product(all_possibilities, repeat=2))"
   ]
  },
  {
   "cell_type": "markdown",
   "metadata": {},
   "source": [
    "Without replacement:\n",
    "{RB, RG, BR, BG, GB, GR} // maybe check this again?"
   ]
  },
  {
   "cell_type": "markdown",
   "metadata": {},
   "source": [
    "### 2. An experiment consists of tossing a coin three times. What is the sample space of this experiment? Which event corresponds to the experiment resulting in more heads than tails?"
   ]
  },
  {
   "cell_type": "markdown",
   "metadata": {},
   "source": [
    "SAMPLE SPACE:"
   ]
  },
  {
   "cell_type": "code",
   "execution_count": 162,
   "metadata": {
    "scrolled": true
   },
   "outputs": [
    {
     "data": {
      "text/plain": [
       "[('R', 'R'),\n",
       " ('R', 'B'),\n",
       " ('R', 'G'),\n",
       " ('B', 'R'),\n",
       " ('B', 'B'),\n",
       " ('B', 'G'),\n",
       " ('G', 'R'),\n",
       " ('G', 'B'),\n",
       " ('G', 'G')]"
      ]
     },
     "execution_count": 162,
     "metadata": {},
     "output_type": "execute_result"
    }
   ],
   "source": [
    "possibility =  ['H', 'T']\n",
    "list(itertools.product(all_possibilities, repeat=2))"
   ]
  },
  {
   "cell_type": "markdown",
   "metadata": {},
   "source": [
    "Which event corresponds to the experiment resulting in more heads than tails?"
   ]
  },
  {
   "cell_type": "code",
   "execution_count": 163,
   "metadata": {},
   "outputs": [
    {
     "name": "stdout",
     "output_type": "stream",
     "text": [
      "('H', 'H', 'H')\n",
      "('H', 'H', 'T')\n",
      "('H', 'T', 'H')\n",
      "('T', 'H', 'H')\n"
     ]
    }
   ],
   "source": [
    "possibility =  ['H', 'T']\n",
    "sample = list(itertools.product(possibility, repeat=3))\n",
    "for i in sample:\n",
    "    if len([j for j in i if j == 'H']) >= 2:\n",
    "        print(i)"
   ]
  },
  {
   "cell_type": "markdown",
   "metadata": {},
   "source": []
  },
  {
   "cell_type": "markdown",
   "metadata": {},
   "source": [
    "### 3. Let S = {1, 2, 3, 4, 5, 6, 7}, E = {1, 3, 5, 7}, F = {7, 4, 6}, G = {1, 4}."
   ]
  },
  {
   "cell_type": "markdown",
   "metadata": {},
   "source": [
    "#### (a) EF;"
   ]
  },
  {
   "cell_type": "code",
   "execution_count": 164,
   "metadata": {},
   "outputs": [
    {
     "data": {
      "text/plain": [
       "[7]"
      ]
     },
     "execution_count": 164,
     "metadata": {},
     "output_type": "execute_result"
    }
   ],
   "source": [
    "S = [1,2,3,4,5,6,7]\n",
    "E = [1,3,5,7]\n",
    "F = [7,4,6]\n",
    "G = [1, 4]\n",
    "\n",
    "EF = [i for i in S if i in E and i in F]  #intersection of E and F\n",
    "EF"
   ]
  },
  {
   "cell_type": "markdown",
   "metadata": {},
   "source": [
    "#### (b) E ∪ FG;"
   ]
  },
  {
   "cell_type": "code",
   "execution_count": 165,
   "metadata": {},
   "outputs": [
    {
     "data": {
      "text/plain": [
       "[1, 3, 4, 5, 7]"
      ]
     },
     "execution_count": 165,
     "metadata": {},
     "output_type": "execute_result"
    }
   ],
   "source": [
    "FG = [i for i in S if i in F and i in G]           #intersection of F and G\n",
    "E_union_FG = [i for i in S if i in E or i in FG]  #union of E and FG\n",
    "E_union_FG"
   ]
  },
  {
   "cell_type": "markdown",
   "metadata": {},
   "source": [
    "#### (c) EG^c"
   ]
  },
  {
   "cell_type": "code",
   "execution_count": 166,
   "metadata": {},
   "outputs": [
    {
     "data": {
      "text/plain": [
       "[3, 5, 7]"
      ]
     },
     "execution_count": 166,
     "metadata": {},
     "output_type": "execute_result"
    }
   ],
   "source": [
    "G_complement = [i for i in S if i not in G]     #finding G complement (same as subtracting G from S)\n",
    "E_inter_G_comp =[i for i in S if i in G_complement and i in E]   #intersection(common) bw G complement and E\n",
    "E_inter_G_comp"
   ]
  },
  {
   "cell_type": "markdown",
   "metadata": {},
   "source": [
    "#### (d) EF^c ∪ G"
   ]
  },
  {
   "cell_type": "code",
   "execution_count": 167,
   "metadata": {},
   "outputs": [
    {
     "data": {
      "text/plain": [
       "[1, 2, 3, 5]"
      ]
     },
     "execution_count": 167,
     "metadata": {},
     "output_type": "execute_result"
    }
   ],
   "source": [
    "F_complement = [i for i in S if i not in F]   # find F complement\n",
    "E_inter_F_comp = [i for i in S if i in E and i in F_complement] # find E intersection with F complement\n",
    "EF_comp_union_G = [i for i in S if i in F_complement or i in E_inter_F_comp]\n",
    "EF_comp_union_G"
   ]
  },
  {
   "cell_type": "markdown",
   "metadata": {},
   "source": [
    "#### (e) E^c (F ∪ G);"
   ]
  },
  {
   "cell_type": "code",
   "execution_count": 168,
   "metadata": {},
   "outputs": [
    {
     "data": {
      "text/plain": [
       "[4, 6]"
      ]
     },
     "execution_count": 168,
     "metadata": {},
     "output_type": "execute_result"
    }
   ],
   "source": [
    "E_complement = [i for i in S if i not in E]\n",
    "F_union_G = [i for i in S if i in F or i in G]\n",
    "Ec_FuG = [i for i in S if i in E_complement and i in F_union_G]\n",
    "Ec_FuG"
   ]
  },
  {
   "cell_type": "markdown",
   "metadata": {},
   "source": [
    "#### (f) EG ∪ FG"
   ]
  },
  {
   "cell_type": "code",
   "execution_count": 169,
   "metadata": {},
   "outputs": [
    {
     "data": {
      "text/plain": [
       "[1, 4]"
      ]
     },
     "execution_count": 169,
     "metadata": {},
     "output_type": "execute_result"
    }
   ],
   "source": [
    "E_G = [i for i in S if i in E and i in G]\n",
    "F_G = [i for i in S if i in F and i in G]\n",
    "EG_u_FG = [i for i in S if i in E_G or i in F_G]\n",
    "EG_u_FG"
   ]
  },
  {
   "cell_type": "markdown",
   "metadata": {},
   "source": [
    "### 4. Two dice are thrown. Let E be the event that the sum of the dice is odd, let F be the event that the first die lands on 1, and let G be the event that the sum is 5. Describe the events EF, E ∪ F, FG, EF c , EFG."
   ]
  },
  {
   "cell_type": "markdown",
   "metadata": {},
   "source": [
    "EF: Sum of the dice is odd **AND** first die lands on 1\n",
    "\n",
    "E u F: Sum of the dice is odd **OR** first die lands on 1\n",
    "\n",
    "FG: The first die lands on 1 **AND** the sum is 5\n",
    "\n",
    "EF^c: Sum of the dice is odd **AND** the first die does *NOT* land on 1\n",
    "\n",
    "EFG: Sum of the dice is odd **AND** the first die lands on 1 **AND** the sum is 5"
   ]
  },
  {
   "cell_type": "markdown",
   "metadata": {},
   "source": [
    "### 5. A system is composed of four components, each of which is either working or failed. Consider an experiment that consists of observing the status of each component, and let the outcome of the experiment be given by the vector (x 1 , x 2 , x 3 , x 4 ) where x i is equal to 1 if component i is working and is equal to 0 if component i is failed."
   ]
  },
  {
   "cell_type": "markdown",
   "metadata": {},
   "source": [
    "#### (a) How many outcomes are in the sample space of the outcome?"
   ]
  },
  {
   "cell_type": "code",
   "execution_count": 170,
   "metadata": {},
   "outputs": [
    {
     "data": {
      "text/plain": [
       "[('1', '1', '1', '1'),\n",
       " ('1', '1', '1', '0'),\n",
       " ('1', '1', '0', '1'),\n",
       " ('1', '1', '0', '0'),\n",
       " ('1', '0', '1', '1'),\n",
       " ('1', '0', '1', '0'),\n",
       " ('1', '0', '0', '1'),\n",
       " ('1', '0', '0', '0'),\n",
       " ('0', '1', '1', '1'),\n",
       " ('0', '1', '1', '0'),\n",
       " ('0', '1', '0', '1'),\n",
       " ('0', '1', '0', '0'),\n",
       " ('0', '0', '1', '1'),\n",
       " ('0', '0', '1', '0'),\n",
       " ('0', '0', '0', '1'),\n",
       " ('0', '0', '0', '0')]"
      ]
     },
     "execution_count": 170,
     "metadata": {},
     "output_type": "execute_result"
    }
   ],
   "source": [
    "total_outcomes = ['1', '0']\n",
    "list(itertools.product(total_outcomes, repeat=4))"
   ]
  },
  {
   "cell_type": "markdown",
   "metadata": {},
   "source": [
    "#### (b) Suppose that the system will work if components 1 and 2 are both working, or if components 3 and 4 are both working. Specify all the outcomes in the event that the system works."
   ]
  },
  {
   "cell_type": "code",
   "execution_count": 171,
   "metadata": {},
   "outputs": [],
   "source": [
    "full = list(itertools.product(total_outcomes, repeat=4))\n",
    "for i in full:\n",
    "    if len([j for j in i if j == '1' or j == '0']) ==2:\n",
    "        print(i)"
   ]
  },
  {
   "cell_type": "markdown",
   "metadata": {},
   "source": [
    "ALTERNATIVE:\n",
    "[('1', '1', '1', '1'),\n",
    " ('1', '1', '1', '0')\n",
    " ('1', '1', '0', '1'),\n",
    " ('1', '1', '0', '0')\n",
    " ('1', '0', '1', '1'),\n",
    " ('0', '1', '1', '1'),\n",
    " ('0', '0', '1', '1')\n",
    " ('0', '1', '1', '1')]\n"
   ]
  },
  {
   "cell_type": "markdown",
   "metadata": {},
   "source": [
    "#### (c) Let E be the event that components 1 and 3 are both failed. How many outcomes are contained in event E?"
   ]
  },
  {
   "cell_type": "markdown",
   "metadata": {},
   "source": [
    "Outcomes = 8"
   ]
  },
  {
   "cell_type": "markdown",
   "metadata": {},
   "source": [
    "### 6. Let E, F, G be three events. Find expressions for the events that of E, F, G"
   ]
  },
  {
   "cell_type": "markdown",
   "metadata": {},
   "source": [
    "### (a) only E occurs; \n",
    "E ∩ F^c ∩ G^c\n",
    "\n",
    "### (b) both E and G but not F occur;\n",
    "E ∩ G ∩ F^c\n",
    "\n",
    "### (c) at least one of the events occurs;\n",
    "E ∪ F ∪ G\n",
    "\n",
    "### (d) at least two of the events occur;\n",
    "(E ∩ F) ∪ (E ∩ G) ∪ (F ∩ G) ∪ (E ∩ F ∩ G) \n",
    "\n",
    "### (e) all three occur;\n",
    "E ∩ F ∩ G\n",
    "\n",
    "### (f) none of the events occurs;\n",
    "(E^c) ∩ (F^c) ∩ (G^c)\n",
    "\n",
    "### (g) at most one of them occurs;\n",
    "((E ∩ F) ∪ (E ∩ G ) ∪ (F ∩ G))^c\n",
    "\n",
    "### (h) at most two of them occur;\n",
    "(E ∩ F ∩ G)^c\n",
    "\n",
    "### (i) exactly two of them occur;\n",
    "(E ∩ F ∩ G^c)∪(E ∩ F^c ∩ G) ∪ (E^c ∩ F ∩ G)\n",
    "\n",
    "### (j) at most three of them occur.\n",
    "E ∪ F ∪ G "
   ]
  },
  {
   "cell_type": "markdown",
   "metadata": {},
   "source": [
    "### 19. Consider a set of 23 unrelated people. Because each \u0003 \u0004 pair of people shares the same birthday with probability 1/365, and there are 23 2 = 253 pairs, why isn’t the probability that at least two people have the same birthday equal to 253/365?"
   ]
  },
  {
   "cell_type": "markdown",
   "metadata": {},
   "source": [
    "Answer: So let's start with the first person, he can be born on any day so he has birthday on the same day is 365/365, and second person 364/365, and so on until we get to the last person who has probability = 342/365.\n",
    "\n",
    "If we want to calculate the probability of how likely is that two people in a room of 23 people share same birthday, there is an easy way to first find what is probability of two people not having birthday on same day.\n",
    "It can be calculated:\n",
    "\n",
    "365!/(342! * 365^23)\n",
    "\n",
    "which is approximately 0.50\n",
    "\n",
    "Total probability = 1\n",
    "\n",
    "1 - 0.50 = 0.50\n",
    "This is the probability that two people have same birthdays in a room of 23 people"
   ]
  },
  {
   "cell_type": "markdown",
   "metadata": {},
   "source": [
    "### 22. A closet contains 8 pairs of shoes. If 4 shoes are randomly selected, what is the probability that there will be (a) no complete pair and (b) exactly 1 complete pair?"
   ]
  },
  {
   "cell_type": "markdown",
   "metadata": {},
   "source": [
    "### (a)  no complete pair"
   ]
  },
  {
   "cell_type": "code",
   "execution_count": 7,
   "metadata": {
    "scrolled": true
   },
   "outputs": [
    {
     "data": {
      "text/plain": [
       "0.6153846153846154"
      ]
     },
     "execution_count": 7,
     "metadata": {},
     "output_type": "execute_result"
    }
   ],
   "source": [
    "(comb(8,4)*(pow(2,4))) / comb(16,4)"
   ]
  },
  {
   "cell_type": "markdown",
   "metadata": {},
   "source": [
    "### (b)  exactly 1 complete pair?"
   ]
  },
  {
   "cell_type": "code",
   "execution_count": 18,
   "metadata": {},
   "outputs": [
    {
     "data": {
      "text/plain": [
       "0.36923076923076925"
      ]
     },
     "execution_count": 18,
     "metadata": {},
     "output_type": "execute_result"
    }
   ],
   "source": [
    "(comb(8,1)*comb(7,2)*pow(2,2))/ comb(16,4)"
   ]
  },
  {
   "cell_type": "markdown",
   "metadata": {},
   "source": [
    "#### 2. Answer questions 1-14 [here](https://www.indiabix.com/aptitude/permutation-and-combination/) (open in new tab) below. Insert the questions with their respective answers and any necessary code below."
   ]
  },
  {
   "cell_type": "markdown",
   "metadata": {},
   "source": [
    "### 1. From a group of 7 men and 6 women, five persons are to be selected to form a committee so that at least 3 men are there on the committee. In how many ways can it be done? "
   ]
  },
  {
   "cell_type": "code",
   "execution_count": 16,
   "metadata": {},
   "outputs": [
    {
     "data": {
      "text/plain": [
       "756.0"
      ]
     },
     "execution_count": 16,
     "metadata": {},
     "output_type": "execute_result"
    }
   ],
   "source": [
    "(comb(7,3) * comb(6,2)) + (comb(7,4) * comb(6,1)) + comb(7,5)"
   ]
  },
  {
   "cell_type": "code",
   "execution_count": 11,
   "metadata": {},
   "outputs": [
    {
     "data": {
      "text/plain": [
       "15.0"
      ]
     },
     "execution_count": 11,
     "metadata": {},
     "output_type": "execute_result"
    }
   ],
   "source": [
    "comb(6,2)"
   ]
  },
  {
   "cell_type": "markdown",
   "metadata": {},
   "source": [
    "### 2. In how many different ways can the letters of the word 'LEADING' be arranged in such a way that the vowels always come together?"
   ]
  },
  {
   "cell_type": "code",
   "execution_count": 18,
   "metadata": {},
   "outputs": [
    {
     "data": {
      "text/plain": [
       "720.0"
      ]
     },
     "execution_count": 18,
     "metadata": {},
     "output_type": "execute_result"
    }
   ],
   "source": [
    "perm(5,5) * perm(3,3)"
   ]
  },
  {
   "cell_type": "markdown",
   "metadata": {},
   "source": [
    "### 3. In how many different ways can the letters of the word 'CORPORATION' be arranged so that the vowels always come together?"
   ]
  },
  {
   "cell_type": "code",
   "execution_count": 25,
   "metadata": {},
   "outputs": [
    {
     "data": {
      "text/plain": [
       "50400.0"
      ]
     },
     "execution_count": 25,
     "metadata": {},
     "output_type": "execute_result"
    }
   ],
   "source": [
    "perm(5,2) * perm(7,5)"
   ]
  },
  {
   "cell_type": "markdown",
   "metadata": {},
   "source": [
    "### 4. Out of 7 consonants and 4 vowels, how many words of 3 consonants and 2 vowels can be formed?"
   ]
  },
  {
   "cell_type": "code",
   "execution_count": 29,
   "metadata": {},
   "outputs": [
    {
     "data": {
      "text/plain": [
       "25200.0"
      ]
     },
     "execution_count": 29,
     "metadata": {},
     "output_type": "execute_result"
    }
   ],
   "source": [
    "(comb(7,3) * comb(4,2)) * (perm(5,5))"
   ]
  },
  {
   "cell_type": "markdown",
   "metadata": {},
   "source": [
    "### 5. In how many ways can the letters of the word 'LEADER' be arranged? "
   ]
  },
  {
   "cell_type": "code",
   "execution_count": 30,
   "metadata": {},
   "outputs": [
    {
     "data": {
      "text/plain": [
       "360.0"
      ]
     },
     "execution_count": 30,
     "metadata": {},
     "output_type": "execute_result"
    }
   ],
   "source": [
    "perm(6,4)"
   ]
  },
  {
   "cell_type": "markdown",
   "metadata": {},
   "source": [
    "### 6. In a group of 6 boys and 4 girls, four children are to be selected. In how many different ways can they be selected such that at least one boy should be there?"
   ]
  },
  {
   "cell_type": "code",
   "execution_count": 33,
   "metadata": {},
   "outputs": [
    {
     "data": {
      "text/plain": [
       "209.0"
      ]
     },
     "execution_count": 33,
     "metadata": {},
     "output_type": "execute_result"
    }
   ],
   "source": [
    "(comb(6,1)*comb(4,3)) + (comb(6,2)*comb(4,2)) + (comb(6,3)*comb(4,1)) + (comb(6,4)*comb(4,0))"
   ]
  },
  {
   "cell_type": "markdown",
   "metadata": {},
   "source": [
    "### 7.  How many 3-digit numbers can be formed from the digits 2, 3, 5, 6, 7 and 9, which are divisible by 5 and none of the digits is repeated? "
   ]
  },
  {
   "cell_type": "code",
   "execution_count": 37,
   "metadata": {},
   "outputs": [
    {
     "data": {
      "text/plain": [
       "20.0"
      ]
     },
     "execution_count": 37,
     "metadata": {},
     "output_type": "execute_result"
    }
   ],
   "source": [
    "perm(5,2)"
   ]
  },
  {
   "cell_type": "markdown",
   "metadata": {},
   "source": [
    "### 8.  In how many ways a committee, consisting of 5 men and 6 women can be formed from 8 men and 10 women? "
   ]
  },
  {
   "cell_type": "code",
   "execution_count": 38,
   "metadata": {},
   "outputs": [
    {
     "data": {
      "text/plain": [
       "11760.0"
      ]
     },
     "execution_count": 38,
     "metadata": {},
     "output_type": "execute_result"
    }
   ],
   "source": [
    "comb(8,5) * comb(10,6)"
   ]
  },
  {
   "cell_type": "markdown",
   "metadata": {},
   "source": [
    "### 9.  A box contains 2 white balls, 3 black balls and 4 red balls. In how many ways can 3 balls be drawn from the box, if at least one black ball is to be included in the draw? "
   ]
  },
  {
   "cell_type": "code",
   "execution_count": 41,
   "metadata": {},
   "outputs": [
    {
     "data": {
      "text/plain": [
       "64.0"
      ]
     },
     "execution_count": 41,
     "metadata": {},
     "output_type": "execute_result"
    }
   ],
   "source": [
    "(comb(3,1)*comb(6,2)) + (comb(3,2)*comb(6,1)) + (comb(3,3)*comb(6,0))"
   ]
  },
  {
   "cell_type": "markdown",
   "metadata": {},
   "source": [
    "### 10. In how many different ways can the letters of the word 'DETAIL' be arranged in such a way that the vowels occupy only the odd positions?"
   ]
  },
  {
   "cell_type": "code",
   "execution_count": 43,
   "metadata": {},
   "outputs": [
    {
     "data": {
      "text/plain": [
       "36.0"
      ]
     },
     "execution_count": 43,
     "metadata": {},
     "output_type": "execute_result"
    }
   ],
   "source": [
    "perm(3,3) * perm(3,3)"
   ]
  },
  {
   "cell_type": "markdown",
   "metadata": {},
   "source": [
    "### 11.  In how many ways can a group of 5 men and 2 women be made out of a total of 7 men and 3 women? "
   ]
  },
  {
   "cell_type": "code",
   "execution_count": 44,
   "metadata": {},
   "outputs": [
    {
     "data": {
      "text/plain": [
       "63.0"
      ]
     },
     "execution_count": 44,
     "metadata": {},
     "output_type": "execute_result"
    }
   ],
   "source": [
    "comb(7,5) * comb(3,2)"
   ]
  },
  {
   "cell_type": "markdown",
   "metadata": {},
   "source": [
    "### 12. How many 4-letter words with or without meaning, can be formed out of the letters of the word, 'LOGARITHMS', if repetition of letters is not allowed?"
   ]
  },
  {
   "cell_type": "code",
   "execution_count": 46,
   "metadata": {},
   "outputs": [
    {
     "data": {
      "text/plain": [
       "5040.0"
      ]
     },
     "execution_count": 46,
     "metadata": {},
     "output_type": "execute_result"
    }
   ],
   "source": [
    "perm(10,4)"
   ]
  },
  {
   "cell_type": "markdown",
   "metadata": {},
   "source": [
    "### 13.  In how many different ways can the letters of the word 'MATHEMATICS' be arranged so that the vowels always come together? "
   ]
  },
  {
   "cell_type": "code",
   "execution_count": 58,
   "metadata": {},
   "outputs": [
    {
     "data": {
      "text/plain": [
       "120960.0"
      ]
     },
     "execution_count": 58,
     "metadata": {},
     "output_type": "execute_result"
    }
   ],
   "source": [
    "(perm(4,4) / perm(2,2)) * (perm(8,8) / (perm(2,2)*perm(2,2)))"
   ]
  },
  {
   "cell_type": "markdown",
   "metadata": {},
   "source": [
    "### 14.  In how many different ways can the letters of the word 'OPTICAL' be arranged so that the vowels always come together? "
   ]
  },
  {
   "cell_type": "code",
   "execution_count": 63,
   "metadata": {},
   "outputs": [
    {
     "data": {
      "text/plain": [
       "720.0"
      ]
     },
     "execution_count": 63,
     "metadata": {},
     "output_type": "execute_result"
    }
   ],
   "source": [
    "perm(5,5) * perm(3,3)"
   ]
  }
 ],
 "metadata": {
  "kernelspec": {
   "display_name": "Python 3",
   "language": "python",
   "name": "python3"
  },
  "language_info": {
   "codemirror_mode": {
    "name": "ipython",
    "version": 3
   },
   "file_extension": ".py",
   "mimetype": "text/x-python",
   "name": "python",
   "nbconvert_exporter": "python",
   "pygments_lexer": "ipython3",
   "version": "3.7.1"
  }
 },
 "nbformat": 4,
 "nbformat_minor": 2
}
