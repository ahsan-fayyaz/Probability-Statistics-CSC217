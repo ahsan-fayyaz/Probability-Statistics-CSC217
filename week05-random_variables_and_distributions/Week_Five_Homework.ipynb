{
 "cells": [
  {
   "cell_type": "code",
   "execution_count": 5,
   "metadata": {},
   "outputs": [],
   "source": [
    "import numpy as np\n",
    "import matplotlib.pyplot as plt\n",
    "import scipy.stats as stats\n",
    "%matplotlib inline\n",
    "from scipy.special import comb, perm\n",
    "import itertools"
   ]
  },
  {
   "cell_type": "markdown",
   "metadata": {},
   "source": [
    "#### 1. From Chapter 5 of Introduction to Probability and Statistics, please do Questions 2,3,6,11,12,13, and 14"
   ]
  },
  {
   "cell_type": "markdown",
   "metadata": {},
   "source": [
    "2. A communications channel transmits the digits 0 and 1. However, due to static,\n",
    "the digit transmitted is incorrectly received with probability .2. Suppose that we\n",
    "want to transmit an important message consisting of one binary digit. To reduce\n",
    "the chance of error, we transmit 00000 instead of 0 and 11111 instead of 1. If the\n",
    "receiver of the message uses “majority” decoding, what is the probability that the\n",
    "message will be incorrectly decoded? What independence assumptions are you\n",
    "making? (By majority decoding we mean that the message is decoded as “0” if\n",
    "there are at least three zeros in the message received and as “1” otherwise.)"
   ]
  },
  {
   "cell_type": "code",
   "execution_count": 6,
   "metadata": {},
   "outputs": [
    {
     "data": {
      "text/plain": [
       "0.05792000000000003"
      ]
     },
     "execution_count": 6,
     "metadata": {},
     "output_type": "execute_result"
    }
   ],
   "source": [
    "( comb(5,3) * (0.2**3) * (0.8**2) ) +  ( comb(5,4) * (0.2**4) * 0.8 ) + ( comb(5,5) * (0.2**5))"
   ]
  },
  {
   "cell_type": "markdown",
   "metadata": {},
   "source": [
    "3. If each voter is for Proposition A with probability .7, what is the probability that\n",
    "exactly 7 of 10 voters are for this proposition?"
   ]
  },
  {
   "cell_type": "code",
   "execution_count": 9,
   "metadata": {},
   "outputs": [
    {
     "data": {
      "text/plain": [
       "0.2668279319999998"
      ]
     },
     "execution_count": 9,
     "metadata": {},
     "output_type": "execute_result"
    }
   ],
   "source": [
    "comb(10,7) * (0.7**7) * (0.3**3)"
   ]
  },
  {
   "cell_type": "markdown",
   "metadata": {},
   "source": [
    "Let X be a binomial random variable with\n",
    "E [X ] = 7\n",
    "and\n",
    "Var(X ) = 2.1\n",
    "Find\n",
    "(a) P{X = 4};\n",
    "(b) P{X > 12}."
   ]
  },
  {
   "cell_type": "code",
   "execution_count": 10,
   "metadata": {
    "scrolled": true
   },
   "outputs": [
    {
     "data": {
      "text/plain": [
       "0.03675690899999998"
      ]
     },
     "execution_count": 10,
     "metadata": {},
     "output_type": "execute_result"
    }
   ],
   "source": [
    "#a\n",
    "comb(10,4) * (0.7**4) * (0.3**6)"
   ]
  },
  {
   "cell_type": "code",
   "execution_count": 11,
   "metadata": {},
   "outputs": [
    {
     "data": {
      "text/plain": [
       "0"
      ]
     },
     "execution_count": 11,
     "metadata": {},
     "output_type": "execute_result"
    }
   ],
   "source": [
    "#b\n",
    "0"
   ]
  },
  {
   "cell_type": "markdown",
   "metadata": {},
   "source": [
    "11. If you buy a lottery ticket in 50 lotteries, in each of which your chance of winning\n",
    "1\n",
    "a prize is 100\n",
    ", what is the (approximate) probability that you will win a prize (a)\n",
    "at least once, (b) exactly once, and (c) at least twice?"
   ]
  },
  {
   "cell_type": "code",
   "execution_count": 41,
   "metadata": {},
   "outputs": [
    {
     "data": {
      "text/plain": [
       "[0.6065306597126334]"
      ]
     },
     "execution_count": 41,
     "metadata": {},
     "output_type": "execute_result"
    }
   ],
   "source": [
    "#a\n",
    "# 1 - P(X = 0)\n",
    "[stats.poisson.pmf(mu=0.5, k=i) for i in range(1)]"
   ]
  },
  {
   "cell_type": "code",
   "execution_count": 42,
   "metadata": {
    "scrolled": false
   },
   "outputs": [
    {
     "data": {
      "text/plain": [
       "0.39347"
      ]
     },
     "execution_count": 42,
     "metadata": {},
     "output_type": "execute_result"
    }
   ],
   "source": [
    "px0 = 0.606530\n",
    "1 - px0"
   ]
  },
  {
   "cell_type": "code",
   "execution_count": 43,
   "metadata": {},
   "outputs": [
    {
     "data": {
      "text/plain": [
       "0.303"
      ]
     },
     "execution_count": 43,
     "metadata": {},
     "output_type": "execute_result"
    }
   ],
   "source": [
    "#b\n",
    "#P(X = 1)\n",
    "\n",
    "px1 = 0.30300\n",
    "px1"
   ]
  },
  {
   "cell_type": "code",
   "execution_count": 44,
   "metadata": {},
   "outputs": [
    {
     "data": {
      "text/plain": [
       "0.09047000000000005"
      ]
     },
     "execution_count": 44,
     "metadata": {},
     "output_type": "execute_result"
    }
   ],
   "source": [
    "#c\n",
    "# 1 - (P(X = 0) - P(X=1))\n",
    "1 - (px0 + px1)"
   ]
  },
  {
   "cell_type": "markdown",
   "metadata": {},
   "source": [
    "12. The number of times that an individual contracts a cold in a given year is a Poisson\n",
    "random variable with parameter λ = 3. Suppose a new wonder drug (based on\n",
    "large quantities of vitamin C) has just been marketed that reduces the Poisson\n",
    "parameter to λ = 2 for 75 percent of the population. For the other 25 percent of\n",
    "the population, the drug has no appreciable effect on colds. If an individual tries\n",
    "the drug for a year and has 0 colds in that time, how likely is it that the drug is\n",
    "beneficial for him or her?"
   ]
  },
  {
   "cell_type": "code",
   "execution_count": 91,
   "metadata": {},
   "outputs": [
    {
     "data": {
      "text/plain": [
       "[0.22313016014842982]"
      ]
     },
     "execution_count": 91,
     "metadata": {},
     "output_type": "execute_result"
    }
   ],
   "source": [
    "# for lambda =  3\n",
    "[stats.poisson.pmf(mu=1.5, k=i) for i in range(1)]"
   ]
  },
  {
   "cell_type": "code",
   "execution_count": 12,
   "metadata": {},
   "outputs": [
    {
     "data": {
      "text/plain": [
       "[0.6065306597126334]"
      ]
     },
     "execution_count": 12,
     "metadata": {},
     "output_type": "execute_result"
    }
   ],
   "source": [
    "# for lambda = 2\n",
    "[stats.poisson.pmf(mu=0.5, k=i) for i in range(1)]"
   ]
  },
  {
   "cell_type": "markdown",
   "metadata": {},
   "source": [
    "13. In the 1980s, an average of 121.95 workers died on the job each week. Give\n",
    "estimates of the following quantities:\n",
    "(a) the proportion of weeks having 130 deaths or more;\n",
    "(b) the proportion of weeks having 100 deaths or less."
   ]
  },
  {
   "cell_type": "code",
   "execution_count": 14,
   "metadata": {},
   "outputs": [
    {
     "data": {
      "text/plain": [
       "0.23299999999999998"
      ]
     },
     "execution_count": 14,
     "metadata": {},
     "output_type": "execute_result"
    }
   ],
   "source": [
    "#a\n",
    "#P(x) that is greater than 130\n",
    "1 - 0.767"
   ]
  },
  {
   "cell_type": "code",
   "execution_count": 15,
   "metadata": {},
   "outputs": [
    {
     "data": {
      "text/plain": [
       "0.023499999999999965"
      ]
     },
     "execution_count": 15,
     "metadata": {},
     "output_type": "execute_result"
    }
   ],
   "source": [
    "#b\n",
    "#p(x) less than or equal to 100\n",
    "1 - 0.9765"
   ]
  },
  {
   "cell_type": "markdown",
   "metadata": {},
   "source": [
    "14. Approximately 80,000 marriages took place in the state of New York last year.\n",
    "Estimate the probability that for at least one of these couples\n",
    "(a) both partners were born on April 30;\n",
    "(b) both partners celebrated their birthday on the same day of the year"
   ]
  },
  {
   "cell_type": "code",
   "execution_count": 29,
   "metadata": {},
   "outputs": [
    {
     "name": "stdout",
     "output_type": "stream",
     "text": [
      "The probability of getting two people born on April 30th:  7.5060987051979735e-06\n"
     ]
    },
    {
     "data": {
      "text/plain": [
       "0.6004878964158379"
      ]
     },
     "execution_count": 29,
     "metadata": {},
     "output_type": "execute_result"
    }
   ],
   "source": [
    "# The probability of getting two people born on April 30th\n",
    "same_day = (1/365)*(1/365)\n",
    "print(\"The probability of getting two people born on April 30th: \", same_day)\n",
    "lambda_var = 80000/365**2\n",
    "lambda_var"
   ]
  },
  {
   "cell_type": "markdown",
   "metadata": {},
   "source": [
    "#### 2. One fun application of bionomial probabilities is in sports, where people can make predictions of playoff series' or even seasons by assessing the binomial probabilities of each matchup.\n",
    "\n",
    "#### Say the New York Knicks get Kevin Durant next year and make it to the NBA Finals. They will face off against Lebron's Los Angeles Lakers in a seven-game series. In a given game, the Knicks chance of winning is 40%.\n",
    "\n",
    "#### With a seven-game series, there are four ways to win. You can win in:\n",
    "* 4 Games\n",
    "* 5 Games (Win 4 Games and Lose 1 Game)\n",
    "* 6 Games (Win 4 Games and Lose 2 Games)\n",
    "* 7 Games (Win 4 Games and Lose 3 Games)\n",
    "\n",
    "#### For each of these scenarios, the Knicks must win the last game. I.e. if they win in five games, they must win the fifth game. *Hint: Think about the odds of them winning 3 out of 4 Games, and then multiply that by the odds of them winning another game*\n",
    "\n",
    "#### What is the probability of the Knicks winning in each of these scenarios? And what is the probability of the Knicks winning overall, given that these are the only scenarios in which they can win (*Hint: Add up the probabilities of them winning in each scenario*)"
   ]
  },
  {
   "cell_type": "code",
   "execution_count": 8,
   "metadata": {},
   "outputs": [
    {
     "name": "stdout",
     "output_type": "stream",
     "text": [
      "Knicks winning chances are: \n",
      "1 =  0.025600000000000005\n",
      "2 =  0.06144000000000002\n",
      "3 =  0.13824000000000003\n",
      "4 =  0.13824\n",
      "Final probability of Knicks winning is :\n",
      "0.36352000000000007\n"
     ]
    }
   ],
   "source": [
    "def printstatement():\n",
    "    print(\"Knicks winning chances are: \")\n",
    "printstatement()    \n",
    "    \n",
    "s = pow(0.4,4)\n",
    "print(\"1 = \", s)\n",
    "t = (pow(0.4,3) * pow(0.6,1) * comb(4,3)) * (comb(1,1) * pow(0.4,1) * pow(0.6,0))\n",
    "print(\"2 = \", t)\n",
    "u = (pow(0.4,2) * pow(0.6,2) * comb(4,2)) * (comb(1,1) * pow(0.4,1) * pow(0.6,0)) \n",
    "print(\"3 = \", u)\n",
    "v = ((0.4) * pow(0.6,3) * comb(4,1)) * (comb(1,1) * pow(0.4,1) * pow(0.6,0))\n",
    "print(\"4 = \", v)\n",
    "print(\"Final probability of Knicks winning is :\")\n",
    "print (s+t+u+v)"
   ]
  },
  {
   "cell_type": "markdown",
   "metadata": {},
   "source": [
    "#### 3. Typically, the way a seven game series in the NBA happens is as such: There are two home games, then three away games, then two home games. Say, in our scenario, the two teams play the first two games in Los Angeles, the next three games in New York, and the final two games in Los Angeles.\n",
    "\n",
    "#### For games played in Los Angeles, the Knicks have a 30% chance of winning. For games played in New York, the Knicks have a 60% chance of winning.\n",
    "\n",
    "#### There are still four ways to win. You can win in:\n",
    "* 4 Games (Two on the road, and two at home)\n",
    "* 5 Games (Two on the road, and three at home)\n",
    "* 6 Games (Two on the road, three at home, and one more on the road)\n",
    "* 7 Games (Two on the road, three at home, and two more on the road)\n",
    "\n",
    "#### Again, same as above, the team must win the last game in the series in each of these scenarios. This is different, however, because the odds of winning at home and the odds of winning on the road are different.\n",
    "\n",
    "#### The best way to go about this is to probably manually write out the scenarios in which they can win. I.e.: in order to win the series in 5 games, the Knicks can win one of two of the first two away games and all three home games OR they can win both of the first two away games and two of the three home games. Add these scenarios up to get the total probability of them winning in five games."
   ]
  },
  {
   "cell_type": "code",
   "execution_count": 11,
   "metadata": {},
   "outputs": [
    {
     "name": "stdout",
     "output_type": "stream",
     "text": [
      "Probability of winning 4 games:  0.0324\n",
      "Probability of winning 5 games:  0.081\n",
      "Probability of winning 6 games 0.26567999999999997\n"
     ]
    }
   ],
   "source": [
    "s = pow(0.3,2) * pow(0.6,2)\n",
    "print(\"Probability of winning 4 games: \", s)\n",
    "t = (comb(2,1)*pow(0.6,1)*pow(0.4,1)*comb(3,3)*pow(0.3,3)*pow(0.7,0)) + (comb(2,2)*pow(0.6,2)*pow(0.4,0)*comb(3,2)*pow(0.3,2)*pow(0.7,1))\n",
    "print(\"Probability of winning 5 games: \", t)\n",
    "u = (comb(2,2)*pow(0.6,2)*pow(0.4,0)*comb(3,1)*pow(0.3,1)*pow(0.7,2) + comb(2,1)*pow(0.6,1)*pow(0.4,1)*comb(3,2)*pow(0.3,2)*pow(0.7,1) + comb(3,3)*pow(0.3,3)*pow(0.7,0)*(0.6))\n",
    "print(\"Probability of winning 6 games\", u)"
   ]
  },
  {
   "cell_type": "markdown",
   "metadata": {},
   "source": [
    "#### 4. In class we found the PMF and CDF for the result of getting two dice rolls. Find all of the results possible when you roll three dice, along with the PMF and CDF for each possibility, along with a graphical representation of each PMF and CDF (*Hint: in class we found the result for two dice by nesting one for loop inside another. How can we find the result for three dice?*). Of course label your graphs appropriately!"
   ]
  },
  {
   "cell_type": "code",
   "execution_count": 4,
   "metadata": {},
   "outputs": [
    {
     "data": {
      "text/plain": [
       "array([ 3.,  4.,  5.,  6.,  7.,  8.,  4.,  5.,  6.,  7.,  8.,  9.,  5.,\n",
       "        6.,  7.,  8.,  9., 10.,  6.,  7.,  8.,  9., 10., 11.,  7.,  8.,\n",
       "        9., 10., 11., 12.,  8.,  9., 10., 11., 12., 13.,  4.,  5.,  6.,\n",
       "        7.,  8.,  9.,  5.,  6.,  7.,  8.,  9., 10.,  6.,  7.,  8.,  9.,\n",
       "       10., 11.,  7.,  8.,  9., 10., 11., 12.,  8.,  9., 10., 11., 12.,\n",
       "       13.,  9., 10., 11., 12., 13., 14.,  5.,  6.,  7.,  8.,  9., 10.,\n",
       "        6.,  7.,  8.,  9., 10., 11.,  7.,  8.,  9., 10., 11., 12.,  8.,\n",
       "        9., 10., 11., 12., 13.,  9., 10., 11., 12., 13., 14., 10., 11.,\n",
       "       12., 13., 14., 15.,  6.,  7.,  8.,  9., 10., 11.,  7.,  8.,  9.,\n",
       "       10., 11., 12.,  8.,  9., 10., 11., 12., 13.,  9., 10., 11., 12.,\n",
       "       13., 14., 10., 11., 12., 13., 14., 15., 11., 12., 13., 14., 15.,\n",
       "       16.,  7.,  8.,  9., 10., 11., 12.,  8.,  9., 10., 11., 12., 13.,\n",
       "        9., 10., 11., 12., 13., 14., 10., 11., 12., 13., 14., 15., 11.,\n",
       "       12., 13., 14., 15., 16., 12., 13., 14., 15., 16., 17.,  8.,  9.,\n",
       "       10., 11., 12., 13.,  9., 10., 11., 12., 13., 14., 10., 11., 12.,\n",
       "       13., 14., 15., 11., 12., 13., 14., 15., 16., 12., 13., 14., 15.,\n",
       "       16., 17., 13., 14., 15., 16., 17., 18.])"
      ]
     },
     "execution_count": 4,
     "metadata": {},
     "output_type": "execute_result"
    }
   ],
   "source": [
    "three_dice = np.array([])\n",
    "for i in range(1,7):\n",
    "    for j in range(1,7):\n",
    "        for p in range(1,7):\n",
    "            three_dice = np.append(three_dice, i + j + p)\n",
    "three_dice            "
   ]
  },
  {
   "cell_type": "code",
   "execution_count": 5,
   "metadata": {},
   "outputs": [
    {
     "data": {
      "text/plain": [
       "(array([ 3.,  4.,  5.,  6.,  7.,  8.,  9., 10., 11., 12., 13., 14., 15.,\n",
       "        16., 17., 18.]),\n",
       " array([ 1,  3,  6, 10, 15, 21, 25, 27, 27, 25, 21, 15, 10,  6,  3,  1]))"
      ]
     },
     "execution_count": 5,
     "metadata": {},
     "output_type": "execute_result"
    }
   ],
   "source": [
    "np.unique(three_dice, return_counts=True)"
   ]
  },
  {
   "cell_type": "code",
   "execution_count": 9,
   "metadata": {},
   "outputs": [],
   "source": [
    "three_dice_unique, count_var = np.unique(three_dice, return_counts=True)"
   ]
  },
  {
   "cell_type": "code",
   "execution_count": 10,
   "metadata": {},
   "outputs": [
    {
     "data": {
      "text/plain": [
       "array([ 3.,  4.,  5.,  6.,  7.,  8.,  9., 10., 11., 12., 13., 14., 15.,\n",
       "       16., 17., 18.])"
      ]
     },
     "execution_count": 10,
     "metadata": {},
     "output_type": "execute_result"
    }
   ],
   "source": [
    "three_dice_unique"
   ]
  },
  {
   "cell_type": "code",
   "execution_count": 11,
   "metadata": {},
   "outputs": [
    {
     "data": {
      "text/plain": [
       "array([ 1,  3,  6, 10, 15, 21, 25, 27, 27, 25, 21, 15, 10,  6,  3,  1])"
      ]
     },
     "execution_count": 11,
     "metadata": {},
     "output_type": "execute_result"
    }
   ],
   "source": [
    "count_var"
   ]
  },
  {
   "cell_type": "code",
   "execution_count": 12,
   "metadata": {},
   "outputs": [
    {
     "data": {
      "text/plain": [
       "216"
      ]
     },
     "execution_count": 12,
     "metadata": {},
     "output_type": "execute_result"
    }
   ],
   "source": [
    "np.sum(count_var)"
   ]
  },
  {
   "cell_type": "markdown",
   "metadata": {},
   "source": [
    "### Getting PMF"
   ]
  },
  {
   "cell_type": "code",
   "execution_count": 14,
   "metadata": {},
   "outputs": [
    {
     "data": {
      "text/plain": [
       "array([0.00462963, 0.01388889, 0.02777778, 0.0462963 , 0.06944444,\n",
       "       0.09722222, 0.11574074, 0.125     , 0.125     , 0.11574074,\n",
       "       0.09722222, 0.06944444, 0.0462963 , 0.02777778, 0.01388889,\n",
       "       0.00462963])"
      ]
     },
     "execution_count": 14,
     "metadata": {},
     "output_type": "execute_result"
    }
   ],
   "source": [
    "count_var/np.sum(count_var)"
   ]
  },
  {
   "cell_type": "code",
   "execution_count": 15,
   "metadata": {},
   "outputs": [
    {
     "data": {
      "text/plain": [
       "array([[3.00000000e+00, 4.62962963e-03],\n",
       "       [4.00000000e+00, 1.38888889e-02],\n",
       "       [5.00000000e+00, 2.77777778e-02],\n",
       "       [6.00000000e+00, 4.62962963e-02],\n",
       "       [7.00000000e+00, 6.94444444e-02],\n",
       "       [8.00000000e+00, 9.72222222e-02],\n",
       "       [9.00000000e+00, 1.15740741e-01],\n",
       "       [1.00000000e+01, 1.25000000e-01],\n",
       "       [1.10000000e+01, 1.25000000e-01],\n",
       "       [1.20000000e+01, 1.15740741e-01],\n",
       "       [1.30000000e+01, 9.72222222e-02],\n",
       "       [1.40000000e+01, 6.94444444e-02],\n",
       "       [1.50000000e+01, 4.62962963e-02],\n",
       "       [1.60000000e+01, 2.77777778e-02],\n",
       "       [1.70000000e+01, 1.38888889e-02],\n",
       "       [1.80000000e+01, 4.62962963e-03]])"
      ]
     },
     "execution_count": 15,
     "metadata": {},
     "output_type": "execute_result"
    }
   ],
   "source": [
    "np.transpose((three_dice_unique, count_var/np.sum(count_var)))"
   ]
  },
  {
   "cell_type": "markdown",
   "metadata": {},
   "source": [
    "### Getting CDF"
   ]
  },
  {
   "cell_type": "code",
   "execution_count": 17,
   "metadata": {},
   "outputs": [
    {
     "data": {
      "text/plain": [
       "array([0.00462963, 0.01851852, 0.0462963 , 0.09259259, 0.16203704,\n",
       "       0.25925926, 0.375     , 0.5       , 0.625     , 0.74074074,\n",
       "       0.83796296, 0.90740741, 0.9537037 , 0.98148148, 0.99537037,\n",
       "       1.        ])"
      ]
     },
     "execution_count": 17,
     "metadata": {},
     "output_type": "execute_result"
    }
   ],
   "source": [
    "np.cumsum(count_var)/np.sum(count_var)"
   ]
  },
  {
   "cell_type": "code",
   "execution_count": 18,
   "metadata": {},
   "outputs": [
    {
     "data": {
      "text/plain": [
       "array([[3.00000000e+00, 4.62962963e-03],\n",
       "       [4.00000000e+00, 1.85185185e-02],\n",
       "       [5.00000000e+00, 4.62962963e-02],\n",
       "       [6.00000000e+00, 9.25925926e-02],\n",
       "       [7.00000000e+00, 1.62037037e-01],\n",
       "       [8.00000000e+00, 2.59259259e-01],\n",
       "       [9.00000000e+00, 3.75000000e-01],\n",
       "       [1.00000000e+01, 5.00000000e-01],\n",
       "       [1.10000000e+01, 6.25000000e-01],\n",
       "       [1.20000000e+01, 7.40740741e-01],\n",
       "       [1.30000000e+01, 8.37962963e-01],\n",
       "       [1.40000000e+01, 9.07407407e-01],\n",
       "       [1.50000000e+01, 9.53703704e-01],\n",
       "       [1.60000000e+01, 9.81481481e-01],\n",
       "       [1.70000000e+01, 9.95370370e-01],\n",
       "       [1.80000000e+01, 1.00000000e+00]])"
      ]
     },
     "execution_count": 18,
     "metadata": {},
     "output_type": "execute_result"
    }
   ],
   "source": [
    "np.transpose((three_dice_unique, np.cumsum(count_var)/np.sum(count_var)))"
   ]
  },
  {
   "cell_type": "code",
   "execution_count": 40,
   "metadata": {},
   "outputs": [
    {
     "data": {
      "text/plain": [
       "Text(0.5, 0.92, 'PMFs for Rolling Three Dice')"
      ]
     },
     "execution_count": 40,
     "metadata": {},
     "output_type": "execute_result"
    },
    {
     "data": {
      "image/png": "[encoded data removed]",
      "text/plain": [
       "<Figure size 1440x720 with 1 Axes>"
      ]
     },
     "metadata": {
      "needs_background": "light"
     },
     "output_type": "display_data"
    }
   ],
   "source": [
    "fig = plt.figure(figsize=(20,10))\n",
    "plt.xticks(three_dice_unique)\n",
    "plt.hist(three_dice_unique, weights=count_var/np.sum(count_var), bins=25)\n",
    "plt.xlabel('Dice Roll Results',fontsize=10)\n",
    "plt.ylabel('Probability Mass Function')\n",
    "fig.suptitle('PMFs for Rolling Three Dice', fontsize=20, y=0.92)"
   ]
  },
  {
   "cell_type": "code",
   "execution_count": 37,
   "metadata": {},
   "outputs": [
    {
     "data": {
      "text/plain": [
       "Text(0.5, 0.92, 'CDFs for Three Dice')"
      ]
     },
     "execution_count": 37,
     "metadata": {},
     "output_type": "execute_result"
    },
    {
     "data": {
      "image/png": "[encoded data removed]",
      "text/plain": [
       "<Figure size 1440x720 with 1 Axes>"
      ]
     },
     "metadata": {
      "needs_background": "light"
     },
     "output_type": "display_data"
    }
   ],
   "source": [
    "fig = plt.figure(figsize=(20,10))\n",
    "plt.xticks(three_dice_unique)\n",
    "plt.plot(three_dice_unique, np.cumsum(count_var)/np.sum(count_var),  drawstyle='steps-post', linestyle='--')\n",
    "plt.xlabel('Dice Roll Results')\n",
    "plt.ylabel('Cumulative Distribution Function')\n",
    "fig.suptitle('CDFs for Three Dice', fontsize=20, y=0.92)"
   ]
  },
  {
   "cell_type": "code",
   "execution_count": null,
   "metadata": {},
   "outputs": [],
   "source": []
  }
 ],
 "metadata": {
  "kernelspec": {
   "display_name": "Python 3",
   "language": "python",
   "name": "python3"
  },
  "language_info": {
   "codemirror_mode": {
    "name": "ipython",
    "version": 3
   },
   "file_extension": ".py",
   "mimetype": "text/x-python",
   "name": "python",
   "nbconvert_exporter": "python",
   "pygments_lexer": "ipython3",
   "version": "3.7.1"
  }
 },
 "nbformat": 4,
 "nbformat_minor": 2
}
