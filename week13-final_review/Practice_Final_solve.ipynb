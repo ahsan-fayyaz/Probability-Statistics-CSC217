{
 "cells": [
  {
   "cell_type": "code",
   "execution_count": 12,
   "metadata": {},
   "outputs": [],
   "source": [
    "import pandas as pd\n",
    "import numpy as np\n",
    "import matplotlib.pyplot as plt\n",
    "import scipy.stats as stats\n",
    "%matplotlib inline"
   ]
  },
  {
   "cell_type": "code",
   "execution_count": 13,
   "metadata": {},
   "outputs": [],
   "source": [
    "df = pd.read_csv('all_things.csv')"
   ]
  },
  {
   "cell_type": "markdown",
   "metadata": {},
   "source": [
    "The above is a CSV file that tracks the per capita GDP for each country in the world (where available), along with the percentage of people in each country who pray on a daily basis, based on survey data. There are four columns:\n",
    "\n",
    "**Country/Territory**: The name of the country  \n",
    "**GDP**: The GDP per capita of that country  \n",
    "**Pray_Daily**: The percentage of respondents from that country who pray daily  \n",
    "**Continent**: The continent that country is located in\n",
    "\n",
    "Instructions:\n",
    "\n",
    "Answer all questions. For any graphs, labelling the axes, titling the graph and changing the size of the graph are **NOT** required unless specifically noted."
   ]
  },
  {
   "cell_type": "code",
   "execution_count": 14,
   "metadata": {},
   "outputs": [
    {
     "data": {
      "text/html": [
       "<div>\n",
       "<style scoped>\n",
       "    .dataframe tbody tr th:only-of-type {\n",
       "        vertical-align: middle;\n",
       "    }\n",
       "\n",
       "    .dataframe tbody tr th {\n",
       "        vertical-align: top;\n",
       "    }\n",
       "\n",
       "    .dataframe thead th {\n",
       "        text-align: right;\n",
       "    }\n",
       "</style>\n",
       "<table border=\"1\" class=\"dataframe\">\n",
       "  <thead>\n",
       "    <tr style=\"text-align: right;\">\n",
       "      <th></th>\n",
       "      <th>Country/Territory</th>\n",
       "      <th>GDP</th>\n",
       "      <th>Pray_Daily</th>\n",
       "      <th>Continent</th>\n",
       "    </tr>\n",
       "  </thead>\n",
       "  <tbody>\n",
       "    <tr>\n",
       "      <th>0</th>\n",
       "      <td>Ireland</td>\n",
       "      <td>78785.0</td>\n",
       "      <td>19.0</td>\n",
       "      <td>Europe</td>\n",
       "    </tr>\n",
       "    <tr>\n",
       "      <th>1</th>\n",
       "      <td>Norway</td>\n",
       "      <td>74356.0</td>\n",
       "      <td>18.0</td>\n",
       "      <td>Europe</td>\n",
       "    </tr>\n",
       "    <tr>\n",
       "      <th>2</th>\n",
       "      <td>Switzerland</td>\n",
       "      <td>64649.0</td>\n",
       "      <td>8.0</td>\n",
       "      <td>Europe</td>\n",
       "    </tr>\n",
       "    <tr>\n",
       "      <th>3</th>\n",
       "      <td>United States</td>\n",
       "      <td>62606.0</td>\n",
       "      <td>55.0</td>\n",
       "      <td>North America</td>\n",
       "    </tr>\n",
       "    <tr>\n",
       "      <th>4</th>\n",
       "      <td>Netherlands</td>\n",
       "      <td>56383.0</td>\n",
       "      <td>20.0</td>\n",
       "      <td>Europe</td>\n",
       "    </tr>\n",
       "  </tbody>\n",
       "</table>\n",
       "</div>"
      ],
      "text/plain": [
       "  Country/Territory      GDP  Pray_Daily      Continent\n",
       "0           Ireland  78785.0        19.0         Europe\n",
       "1            Norway  74356.0        18.0         Europe\n",
       "2       Switzerland  64649.0         8.0         Europe\n",
       "3     United States  62606.0        55.0  North America\n",
       "4       Netherlands  56383.0        20.0         Europe"
      ]
     },
     "execution_count": 14,
     "metadata": {},
     "output_type": "execute_result"
    }
   ],
   "source": [
    "df.head()"
   ]
  },
  {
   "cell_type": "markdown",
   "metadata": {},
   "source": [
    "1) Plot a histogram of the percentage of adults who pray daily by country in the world. What type of distribution is the result closest to?"
   ]
  },
  {
   "cell_type": "code",
   "execution_count": 15,
   "metadata": {},
   "outputs": [
    {
     "data": {
      "text/plain": [
       "(array([ 9., 14., 13.,  7.,  8.,  9., 12., 10., 15.,  8.]),\n",
       " array([ 1. , 10.5, 20. , 29.5, 39. , 48.5, 58. , 67.5, 77. , 86.5, 96. ]),\n",
       " <a list of 10 Patch objects>)"
      ]
     },
     "execution_count": 15,
     "metadata": {},
     "output_type": "execute_result"
    },
    {
     "data": {
      "image/png": "[encoded data removed]",
      "text/plain": [
       "<Figure size 432x288 with 1 Axes>"
      ]
     },
     "metadata": {
      "needs_background": "light"
     },
     "output_type": "display_data"
    }
   ],
   "source": [
    "plt.hist(df['Pray_Daily'])"
   ]
  },
  {
   "cell_type": "markdown",
   "metadata": {},
   "source": [
    "2) What is the mean and standard deviation of the percentage of people who pray daily per country?"
   ]
  },
  {
   "cell_type": "code",
   "execution_count": 20,
   "metadata": {},
   "outputs": [
    {
     "name": "stdout",
     "output_type": "stream",
     "text": [
      "Mean is:  48.542857142857144\n",
      "Standard deviation is:  27.391754995951647\n"
     ]
    }
   ],
   "source": [
    "mean = df['Pray_Daily'].mean()\n",
    "std = df['Pray_Daily'].var()\n",
    "\n",
    "print(\"Mean is: \", mean)\n",
    "print(\"Standard deviation is: \", np.sqrt(std))"
   ]
  },
  {
   "cell_type": "markdown",
   "metadata": {},
   "source": [
    "3) If you were to build a **normal distribution** with the above mean and standard distribution, what would the 95th percentile value be of that distribution?"
   ]
  },
  {
   "cell_type": "code",
   "execution_count": null,
   "metadata": {},
   "outputs": [],
   "source": []
  },
  {
   "cell_type": "markdown",
   "metadata": {},
   "source": [
    "4) Which five countries have the highest percentage of respondents who pray daily? Which five countries have the lowest?"
   ]
  },
  {
   "cell_type": "code",
   "execution_count": null,
   "metadata": {},
   "outputs": [],
   "source": []
  },
  {
   "cell_type": "markdown",
   "metadata": {},
   "source": [
    "5) Find the average time that responders from each continent pray. Which continent prays the most on average? And which prays the least?"
   ]
  },
  {
   "cell_type": "code",
   "execution_count": null,
   "metadata": {},
   "outputs": [],
   "source": []
  },
  {
   "cell_type": "markdown",
   "metadata": {},
   "source": [
    "6) Plot a boxplot showing how much different respondents in Europe pray. Are there any outliers? If so, which countries are outliers and how much do respondents from those countries pray?"
   ]
  },
  {
   "cell_type": "markdown",
   "metadata": {},
   "source": [
    "7) Now let's do a hypothesis test between North American and Asian countries to see if there's a statistically significant difference between the two. First, what is the mean difference between the percentage of respondents who pray daily between the average North American country and the average Asian country?"
   ]
  },
  {
   "cell_type": "markdown",
   "metadata": {},
   "source": [
    "8) Given that North American countries, on average, a higher percentage of respondents who pray daily than Asian countries, we should do a one-sided bootstrap test with a significance level of 0.05. What is the null hypothesis? And what is the alternate hypothesis?"
   ]
  },
  {
   "cell_type": "markdown",
   "metadata": {},
   "source": [
    "9) Now let's actually run the null hypothesis. Set a random seed of 42 and run 10,000 simulations. At the stated signifiance level, what is the cutoff value for the rejection region? Given the observed value, can we reject the null hypothesis? At what percentile of the distribution is our observed value? What is the minimum significance level (integer value) with which we'd be able to reject the null hypothesis?"
   ]
  },
  {
   "cell_type": "markdown",
   "metadata": {},
   "source": [
    "10) Now, graph a scatterplot between the GDP for a country (on the X-axis) and the percentage of respondents who pray daily from those countries (on the Y-axis). What does the relationship looks like?"
   ]
  },
  {
   "cell_type": "markdown",
   "metadata": {},
   "source": [
    "11) What is the correlation between these two variables? What does that correlation imply about the relationship between the two variables? Is the correlation statistically significant?"
   ]
  },
  {
   "cell_type": "markdown",
   "metadata": {},
   "source": [
    "12) What is the R-squared value between these two variables?"
   ]
  },
  {
   "cell_type": "markdown",
   "metadata": {},
   "source": [
    "13) If a country has a per-capita GDP of \\\\$50,000, what is the predicted percentage of its respondents who will pray daily according to the model?"
   ]
  },
  {
   "cell_type": "markdown",
   "metadata": {},
   "source": [
    "14) Which country has the closest per-capita GDP to \\\\$50,000 and what is the actual amount of time its respondents pray daily?"
   ]
  },
  {
   "cell_type": "markdown",
   "metadata": {},
   "source": [
    "15) Describe the residuals plot for this relationship. Is it heteroskedastic or homoskedastic?"
   ]
  },
  {
   "cell_type": "markdown",
   "metadata": {},
   "source": [
    "16) Look at the histograms for each of the variables. Which of the two would you suggest transforming to get a more linear relationship? How would you suggest transforming it?"
   ]
  },
  {
   "cell_type": "markdown",
   "metadata": {},
   "source": [
    "17) Take the log value of the appropriate variable and find the new linear relationship. What is the R-squared value now?"
   ]
  },
  {
   "cell_type": "markdown",
   "metadata": {},
   "source": [
    "18) Describe the residuals plot for this relationship. Is it heteroskedastic or homoskedastic?"
   ]
  },
  {
   "cell_type": "markdown",
   "metadata": {},
   "source": [
    "19) Which of the two plots (the untransformed variable and the response variable, or the transformed variable and the response variable) is more appropriate for linear prediction? Why might this be counterintuitive?"
   ]
  },
  {
   "cell_type": "markdown",
   "metadata": {},
   "source": [
    "BONUS: What is a structural error with this dataset? (Hint: are all of the values unique?)"
   ]
  },
  {
   "cell_type": "code",
   "execution_count": null,
   "metadata": {
    "collapsed": true
   },
   "outputs": [],
   "source": []
  }
 ],
 "metadata": {
  "kernelspec": {
   "display_name": "Python 3",
   "language": "python",
   "name": "python3"
  },
  "language_info": {
   "codemirror_mode": {
    "name": "ipython",
    "version": 3
   },
   "file_extension": ".py",
   "mimetype": "text/x-python",
   "name": "python",
   "nbconvert_exporter": "python",
   "pygments_lexer": "ipython3",
   "version": "3.7.1"
  }
 },
 "nbformat": 4,
 "nbformat_minor": 2
}
